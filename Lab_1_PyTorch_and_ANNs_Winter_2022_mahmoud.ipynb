{
  "cells": [
    {
      "cell_type": "markdown",
      "metadata": {
        "id": "3sxa8YxCbzGL"
      },
      "source": [
        "# Lab 1. PyTorch and ANNs\n",
        "\n",
        "**Deadline**: Mon. Jan 31 at 5:00 PM\n",
        "\n",
        "**Total**: 30 Points\n",
        "\n",
        "**Late Penalty**: Any work that is submitted between 1 hour and 24 hours past the deadline will receive a 20% grade deduction. No other late work is accepted. Quercus submission time will be used, not your local computer time. You can submit your labs as many times as you want before the deadline, so please submit often and early.\n",
        "\n",
        "**Grading TA**: Amr Mohamed <amr.mohamed@mail.utoronto.ca>\n",
        "\n",
        "This lab is based on assignments developed by Jonathan Rose, Harris Chan, Lisa Zhang, and Sinisa Colic.\n",
        "\n",
        "This lab is a warm up to get you used to the PyTorch programming environment used\n",
        "in the course, and also to help you review and renew your knowledge\n",
        "of Python and relevant Python libraries.\n",
        "The lab must be done individually. Please recall that the\n",
        "University of Toronto plagarism rules apply.\n",
        "\n",
        "By the end of this lab, you should be able to:\n",
        "\n",
        "1. Be able to perform basic PyTorch tensor operations.\n",
        "2. Be able to load data into PyTorch\n",
        "3. Be able to configure an Artificial Neural Network (ANN) using PyTorch\n",
        "4. Be able to train ANNs using PyTorch\n",
        "5. Be able to evaluate different ANN configuations\n",
        "\n",
        "You will need to use numpy and PyTorch documentations for this assignment:\n",
        "\n",
        "* https://docs.scipy.org/doc/numpy/reference/\n",
        "* https://pytorch.org/docs/stable/torch.html\n",
        "\n",
        "You can also reference Python API documentations freely.\n",
        "\n",
        "\n",
        "### What to submit\n",
        "\n",
        "Submit a PDF file containing all your code, outputs, and write-up\n",
        "from parts 1-5. You can produce a PDF of your Google Colab file by\n",
        "going to `File -> Print` and then save as PDF. The Colab instructions\n",
        "has more information.\n",
        "\n",
        "**Do not submit any other files produced by your code.**\n",
        "\n",
        "Include a link to your colab file in your submission.\n",
        "\n",
        "Please use Google Colab to complete this assignment. If you want to use Jupyter Notebook, please complete the assignment and upload your Jupyter Notebook file to Google Colab for submission. \n",
        "\n",
        "**Adjust the scaling to ensure that the text is not cutoff at the margins.**"
      ]
    },
    {
      "cell_type": "markdown",
      "metadata": {
        "id": "_TlLBrWBIGt0"
      },
      "source": [
        "## Colab Link\n",
        "\n",
        "Submit make sure to include a link to your colab file here\n",
        "\n",
        "Colab Link: "
      ]
    },
    {
      "cell_type": "markdown",
      "metadata": {
        "id": "mALD3Y2bbzGT"
      },
      "source": [
        "## Part 1. Python Basics [3 pt]\n",
        "\n",
        "The purpose of this section is to get you used to the \n",
        "basics of Python, including working with functions, numbers,\n",
        "lists, and strings.\n",
        "\n",
        "Note that we **will** be checking your code for clarity and efficiency.\n",
        "\n",
        "If you have trouble with this part of the assignment, please review http://cs231n.github.io/python-numpy-tutorial/"
      ]
    },
    {
      "cell_type": "markdown",
      "metadata": {
        "id": "7gimRTE9bzGa"
      },
      "source": [
        "### Part (a) -- 1pt\n",
        "\n",
        "Write a function `sum_of_cubes` that computes the sum of cubes up to `n`. If the input to `sum_of_cubes` invalid (e.g. negative or non-integer `n`), the function should print out `\"Invalid input\"` and return `-1`."
      ]
    },
    {
      "cell_type": "code",
      "execution_count": 39,
      "metadata": {
        "id": "fifG_Wv6bzGf",
        "jupyter": {
          "outputs_hidden": true
        },
        "cellView": "code"
      },
      "outputs": [],
      "source": [
        "#@title Default title text\n",
        "def sum_of_cubes(n):\n",
        "    \"\"\"Return the sum (1^3 + 2^3 + 3^3 + ... + n^3)\n",
        "    \n",
        "    Precondition: n > 0, type(n) == int\n",
        "    \n",
        "    >>> sum_of_cubes(3)\n",
        "    36\n",
        "    >>> sum_of_cubes(1)\n",
        "    1\n",
        "    \"\"\"\n",
        "\n",
        "    # check if input valid\n",
        "    if (type(n) != int or n < 0):\n",
        "        print(\"Invalid input\")\n",
        "        return -1\n",
        "\n",
        "    sum = 0;\n",
        "    for i in range(1, n+1):\n",
        "      sum += i**3\n",
        "  \n",
        "    return sum"
      ]
    },
    {
      "cell_type": "markdown",
      "metadata": {
        "id": "bOxDP8AlbzG2"
      },
      "source": [
        "### Part (b) -- 1pt\n",
        "\n",
        "Write a function `word_lengths` that takes a sentence (string), computes the length of each word in that sentence, and returns the length of each word in a list. You can\n",
        "assume that words are always separated by a space character `\" \"`.\n",
        "\n",
        "Hint: recall the `str.split` function in Python.\n",
        "If you arenot sure how this function works, try\n",
        "typing `help(str.split)` into a Python shell, or check out https://docs.python.org/3.6/library/stdtypes.html#str.split"
      ]
    },
    {
      "cell_type": "code",
      "execution_count": 40,
      "metadata": {
        "colab": {
          "base_uri": "https://localhost:8080/"
        },
        "collapsed": true,
        "id": "H84jlGrVbzG5",
        "jupyter": {
          "outputs_hidden": true
        },
        "outputId": "7fc1033a-3ddf-4c0c-f386-842337e06a02"
      },
      "outputs": [
        {
          "output_type": "stream",
          "name": "stdout",
          "text": [
            "Help on method_descriptor:\n",
            "\n",
            "split(self, /, sep=None, maxsplit=-1)\n",
            "    Return a list of the words in the string, using sep as the delimiter string.\n",
            "    \n",
            "    sep\n",
            "      The delimiter according which to split the string.\n",
            "      None (the default value) means split according to any whitespace,\n",
            "      and discard empty strings from the result.\n",
            "    maxsplit\n",
            "      Maximum number of splits to do.\n",
            "      -1 (the default value) means no limit.\n",
            "\n"
          ]
        }
      ],
      "source": [
        "help(str.split)"
      ]
    },
    {
      "cell_type": "code",
      "execution_count": 41,
      "metadata": {
        "collapsed": true,
        "id": "w1lbnwgsbzHG",
        "jupyter": {
          "outputs_hidden": true
        }
      },
      "outputs": [],
      "source": [
        "def word_lengths(sentence):\n",
        "    \"\"\"Return a list containing the length of each word in\n",
        "    sentence.\n",
        "    \n",
        "    >>> word_lengths(\"welcome to APS360!\")\n",
        "    [7, 2, 7]\n",
        "    >>> word_lengths(\"machine learning is so cool\")\n",
        "    [7, 8, 2, 2, 4]\n",
        "    \"\"\"\n",
        "\n",
        "    word_list = sentence.split()\n",
        "    lengths = [len(word) for word in word_list]\n",
        "    return lengths"
      ]
    },
    {
      "cell_type": "markdown",
      "metadata": {
        "id": "iCsnzu4NIGuD"
      },
      "source": [
        "### Part (c) -- 1pt\n",
        "\n",
        "Write a function `all_same_length` that takes a sentence (string),\n",
        "and checks whether every word in the string is the same length.\n",
        "You should call the function `word_lengths` in the body\n",
        "of this new function.\n"
      ]
    },
    {
      "cell_type": "code",
      "execution_count": 42,
      "metadata": {
        "collapsed": true,
        "id": "Z-7qytZEIGuE",
        "jupyter": {
          "outputs_hidden": true
        }
      },
      "outputs": [],
      "source": [
        "def all_same_length(sentence):\n",
        "    \"\"\"Return True if every word in sentence has the same\n",
        "    length, and False otherwise.\n",
        "    \n",
        "    >>> all_same_length(\"all same length\")\n",
        "    False\n",
        "    >>> word_lengths(\"hello world\")\n",
        "    True\n",
        "    \"\"\"\n",
        "\n",
        "    # get the lengths first\n",
        "    lengths = word_lengths(sentence)\n",
        "    is_same = all(x == lengths[0] for x in lengths)\n",
        "\n",
        "    return is_same"
      ]
    },
    {
      "cell_type": "markdown",
      "metadata": {
        "id": "yUh1MySTbzHT"
      },
      "source": [
        "## Part 2. NumPy Exercises [5 pt]\n",
        "\n",
        "In this part of the assignment, you'll be manipulating arrays \n",
        "usign NumPy. Normally, we use the shorter name `np` to represent\n",
        "the package `numpy`."
      ]
    },
    {
      "cell_type": "code",
      "execution_count": 43,
      "metadata": {
        "collapsed": true,
        "id": "H2opcxqMbzHW",
        "jupyter": {
          "outputs_hidden": true
        }
      },
      "outputs": [],
      "source": [
        "import numpy as np"
      ]
    },
    {
      "cell_type": "markdown",
      "metadata": {
        "id": "Ek29jdqPbzHf"
      },
      "source": [
        "### Part (a) -- 1pt\n",
        "\n",
        "The below variables `matrix` and `vector` are numpy arrays. Explain what you think `<NumpyArray>.size` and `<NumpyArray>.shape` represent."
      ]
    },
    {
      "cell_type": "code",
      "execution_count": 44,
      "metadata": {
        "collapsed": true,
        "id": "Z6eniOV2bzHi",
        "jupyter": {
          "outputs_hidden": true
        }
      },
      "outputs": [],
      "source": [
        "matrix = np.array([[1., 2., 3., 0.5],\n",
        "                   [4., 5., 0., 0.],\n",
        "                   [-1., -2., 1., 1.]])\n",
        "vector = np.array([2., 0., 1., -2.])"
      ]
    },
    {
      "cell_type": "code",
      "execution_count": 45,
      "metadata": {
        "colab": {
          "base_uri": "https://localhost:8080/"
        },
        "collapsed": true,
        "id": "JMIy15dKIGuP",
        "jupyter": {
          "outputs_hidden": true
        },
        "outputId": "672db6da-98f5-4695-c935-640d733271bf"
      },
      "outputs": [
        {
          "output_type": "execute_result",
          "data": {
            "text/plain": [
              "12"
            ]
          },
          "metadata": {},
          "execution_count": 45
        }
      ],
      "source": [
        "matrix.size # return the total number of elements"
      ]
    },
    {
      "cell_type": "code",
      "execution_count": 46,
      "metadata": {
        "colab": {
          "base_uri": "https://localhost:8080/"
        },
        "collapsed": true,
        "id": "QoHaPzDNbzHo",
        "jupyter": {
          "outputs_hidden": true
        },
        "scrolled": true,
        "outputId": "0e5143ed-9959-4065-9caf-10f9dca988ff"
      },
      "outputs": [
        {
          "output_type": "execute_result",
          "data": {
            "text/plain": [
              "(3, 4)"
            ]
          },
          "metadata": {},
          "execution_count": 46
        }
      ],
      "source": [
        "matrix.shape # returns the dimensions of the matrix (row, col)"
      ]
    },
    {
      "cell_type": "code",
      "execution_count": 47,
      "metadata": {
        "colab": {
          "base_uri": "https://localhost:8080/"
        },
        "collapsed": true,
        "id": "dErt6w25bzHu",
        "jupyter": {
          "outputs_hidden": true
        },
        "outputId": "198d4dda-9215-449d-f2ae-1c8fea57bd24"
      },
      "outputs": [
        {
          "output_type": "execute_result",
          "data": {
            "text/plain": [
              "4"
            ]
          },
          "metadata": {},
          "execution_count": 47
        }
      ],
      "source": [
        "vector.size"
      ]
    },
    {
      "cell_type": "code",
      "execution_count": 48,
      "metadata": {
        "colab": {
          "base_uri": "https://localhost:8080/"
        },
        "collapsed": true,
        "id": "TXhHCchIIGua",
        "jupyter": {
          "outputs_hidden": true
        },
        "outputId": "3db4a23a-370b-45fd-e99b-33f142ec9799"
      },
      "outputs": [
        {
          "output_type": "execute_result",
          "data": {
            "text/plain": [
              "(4,)"
            ]
          },
          "metadata": {},
          "execution_count": 48
        }
      ],
      "source": [
        "vector.shape"
      ]
    },
    {
      "cell_type": "markdown",
      "source": [
        "\n",
        "**ANS:**\n",
        "\n",
        "```\n",
        "<NumpyArray>.size``` returns the total number of elements in the numpy array.\n",
        "\n",
        "```<NumpyArray>.shape``` returns the dimensions of the numpy array "
      ],
      "metadata": {
        "id": "hDz3c1-zJ8cw"
      }
    },
    {
      "cell_type": "markdown",
      "metadata": {
        "id": "9PQ-pRIlbzH8"
      },
      "source": [
        "### Part (b) -- 1pt\n",
        "\n",
        "Perform matrix multiplication `output = matrix x vector` by using\n",
        "for loops to iterate through the columns and rows.\n",
        "Do not use any builtin NumPy functions.\n",
        "Cast your output into a NumPy array, if it isn't one already.\n",
        "\n",
        "Hint: be mindful of the dimension of output"
      ]
    },
    {
      "cell_type": "code",
      "execution_count": 49,
      "metadata": {
        "collapsed": true,
        "id": "SXnZFii2bzH-",
        "jupyter": {
          "outputs_hidden": true
        }
      },
      "outputs": [],
      "source": [
        "output = np.zeros(matrix.shape[0])\n",
        "\n",
        "num_rows = matrix.shape[0]\n",
        "num_cols = matrix.shape[1]\n",
        "\n",
        "for row in range(0, num_rows):\n",
        "    for col in range(0, num_cols):\n",
        "        output[row] += matrix[row, col] * vector[col]\n"
      ]
    },
    {
      "cell_type": "code",
      "execution_count": 50,
      "metadata": {
        "colab": {
          "base_uri": "https://localhost:8080/"
        },
        "collapsed": true,
        "id": "BiIVqVvvbzII",
        "jupyter": {
          "outputs_hidden": true
        },
        "outputId": "12341516-fe09-4d83-f20e-c48697e86d39"
      },
      "outputs": [
        {
          "output_type": "execute_result",
          "data": {
            "text/plain": [
              "array([ 4.,  8., -3.])"
            ]
          },
          "metadata": {},
          "execution_count": 50
        }
      ],
      "source": [
        "output"
      ]
    },
    {
      "cell_type": "markdown",
      "metadata": {
        "id": "O5UhbilNbzIP"
      },
      "source": [
        "### Part (c) -- 1pt\n",
        "\n",
        "Perform matrix multiplication `output2 = matrix x vector` by using\n",
        "the function `numpy.dot`.\n",
        "\n",
        "We will never actually write code as in\n",
        "part(c), not only because `numpy.dot` is more concise and easier to read/write, but also performance-wise `numpy.dot` is much faster (it is written in C and highly optimized).\n",
        "In general, we will avoid for loops in our code."
      ]
    },
    {
      "cell_type": "code",
      "execution_count": 51,
      "metadata": {
        "collapsed": true,
        "id": "e8dLVrMEbzIR",
        "jupyter": {
          "outputs_hidden": true
        }
      },
      "outputs": [],
      "source": [
        "output2 = np.dot(matrix, vector)"
      ]
    },
    {
      "cell_type": "code",
      "execution_count": 52,
      "metadata": {
        "colab": {
          "base_uri": "https://localhost:8080/"
        },
        "collapsed": true,
        "id": "X1LqY1eKbzIV",
        "jupyter": {
          "outputs_hidden": true
        },
        "outputId": "cc5a680d-0008-4a41-ac3c-371ba316894b"
      },
      "outputs": [
        {
          "output_type": "execute_result",
          "data": {
            "text/plain": [
              "array([ 4.,  8., -3.])"
            ]
          },
          "metadata": {},
          "execution_count": 52
        }
      ],
      "source": [
        "output2"
      ]
    },
    {
      "cell_type": "markdown",
      "metadata": {
        "id": "77XioX6vbzIb"
      },
      "source": [
        "### Part (d) -- 1pt\n",
        "\n",
        "As a way to test for consistency, show that the two outputs match."
      ]
    },
    {
      "cell_type": "code",
      "execution_count": 53,
      "metadata": {
        "colab": {
          "base_uri": "https://localhost:8080/"
        },
        "collapsed": true,
        "id": "1Vc-Nvf0bzIc",
        "jupyter": {
          "outputs_hidden": true
        },
        "outputId": "52b6348a-b15f-427f-fbd7-b21276d94195"
      },
      "outputs": [
        {
          "output_type": "execute_result",
          "data": {
            "text/plain": [
              "True"
            ]
          },
          "metadata": {},
          "execution_count": 53
        }
      ],
      "source": [
        "all(np.equal(output, output2))"
      ]
    },
    {
      "cell_type": "markdown",
      "metadata": {
        "id": "wjEGmk8oIGur"
      },
      "source": [
        "### Part (e) -- 1pt\n",
        "\n",
        "Show that using `np.dot` is faster than using your code from part (c).\n",
        "\n",
        "You may find the below code snippit helpful:"
      ]
    },
    {
      "cell_type": "code",
      "execution_count": 54,
      "metadata": {
        "colab": {
          "base_uri": "https://localhost:8080/"
        },
        "collapsed": true,
        "id": "XlnE0XO8IGur",
        "jupyter": {
          "outputs_hidden": true
        },
        "outputId": "64bf9b44-3f9e-4ec8-a5f3-72c3128ddddf"
      },
      "outputs": [
        {
          "output_type": "execute_result",
          "data": {
            "text/plain": [
              "0.00028824806213378906"
            ]
          },
          "metadata": {},
          "execution_count": 54
        }
      ],
      "source": [
        "import time\n",
        "\n",
        "# record the time before running code\n",
        "start_time = time.time()\n",
        "\n",
        "# place code to run here\n",
        "# compute time for multiplication\n",
        "output = np.zeros(matrix.shape[0])\n",
        "\n",
        "num_rows = matrix.shape[0]\n",
        "num_cols = matrix.shape[1]\n",
        "\n",
        "for row in range(0, num_rows):\n",
        "    for col in range(0, num_cols):\n",
        "        output[row] += matrix[row, col] * vector[col]\n",
        "    \n",
        "# record the time after the code is run\n",
        "end_time = time.time()\n",
        "\n",
        "# compute the difference\n",
        "diff = end_time - start_time\n",
        "diff"
      ]
    },
    {
      "cell_type": "code",
      "execution_count": 55,
      "metadata": {
        "colab": {
          "base_uri": "https://localhost:8080/"
        },
        "collapsed": true,
        "id": "0aBOgCJeIGuv",
        "jupyter": {
          "outputs_hidden": true
        },
        "outputId": "5de42c69-df31-4da9-9b6e-52e0aa6ab80e"
      },
      "outputs": [
        {
          "output_type": "execute_result",
          "data": {
            "text/plain": [
              "0.00010347366333007812"
            ]
          },
          "metadata": {},
          "execution_count": 55
        }
      ],
      "source": [
        "''' Record time for np.dot '''\n",
        "# record the time before running code\n",
        "start_time_2 = time.time()\n",
        "\n",
        "# place code to run here\n",
        "# compute time for np.dot\n",
        "output2 = np.dot(matrix, vector)\n",
        "    \n",
        "# record the time after the code is run\n",
        "end_time_2 = time.time()\n",
        "\n",
        "# compute the difference\n",
        "diff2 = end_time_2 - start_time_2\n",
        "diff2"
      ]
    },
    {
      "cell_type": "code",
      "source": [
        "# difference between the two times\n",
        "difference = diff - diff2\n",
        "difference"
      ],
      "metadata": {
        "colab": {
          "base_uri": "https://localhost:8080/"
        },
        "id": "E7lwcJjhi6ab",
        "outputId": "dc9d7776-8e9f-418f-f641-faead5331e87"
      },
      "execution_count": 56,
      "outputs": [
        {
          "output_type": "execute_result",
          "data": {
            "text/plain": [
              "0.00018477439880371094"
            ]
          },
          "metadata": {},
          "execution_count": 56
        }
      ]
    },
    {
      "cell_type": "markdown",
      "metadata": {
        "id": "LbKJjoHHbzI4"
      },
      "source": [
        "## Part 3. Images [6 pt]\n",
        "\n",
        "A picture or image can be represented as a NumPy array of “pixels”, \n",
        "with dimensions H × W × C, where H is the height of the image, W is the width of the image,\n",
        "and C is the number of colour channels. Typically we will use an image with channels that give the the Red, Green, and Blue “level” of each pixel, which is referred to with the short form RGB.\n",
        "\n",
        "You will write Python code to load an image, and perform several array manipulations to the image and visualize their effects. "
      ]
    },
    {
      "cell_type": "code",
      "execution_count": 57,
      "metadata": {
        "collapsed": true,
        "id": "FRGQKpEgbzI4",
        "jupyter": {
          "outputs_hidden": true
        }
      },
      "outputs": [],
      "source": [
        "import matplotlib.pyplot as plt"
      ]
    },
    {
      "cell_type": "markdown",
      "metadata": {
        "id": "p1D5mtCubzI6"
      },
      "source": [
        "### Part (a) -- 1 pt\n",
        "\n",
        "This is a photograph of a dog whose name is Mochi.\n",
        "\n",
        "![alt text](https://drive.google.com/uc?export=view&id=1oaLVR2hr1_qzpKQ47i9rVUIklwbDcews)\n",
        "\n",
        "Load the image from its url (https://drive.google.com/uc?export=view&id=1oaLVR2hr1_qzpKQ47i9rVUIklwbDcews) into the variable `img` using the `plt.imread` function.\n",
        "\n",
        "Hint: You can enter the URL directly into the `plt.imread` function as a Python string."
      ]
    },
    {
      "cell_type": "code",
      "execution_count": 58,
      "metadata": {
        "collapsed": true,
        "id": "RB8lf73vbzI7",
        "jupyter": {
          "outputs_hidden": true
        }
      },
      "outputs": [],
      "source": [
        "img = plt.imread(\"https://drive.google.com/uc?export=view&id=1oaLVR2hr1_qzpKQ47i9rVUIklwbDcews\")"
      ]
    },
    {
      "cell_type": "markdown",
      "metadata": {
        "id": "mNli5OsbbzI9"
      },
      "source": [
        "### Part (b) -- 1pt\n",
        "\n",
        "Use the function `plt.imshow` to visualize `img`. \n",
        "\n",
        "This function will also show the coordinate system used to identify pixels.\n",
        "The origin is at the top left corner, and the first dimension indicates the Y (row) direction, \n",
        "and the second dimension indicates the X (column) dimension."
      ]
    },
    {
      "cell_type": "code",
      "execution_count": 59,
      "metadata": {
        "collapsed": true,
        "id": "lEeHKc_abzI9",
        "jupyter": {
          "outputs_hidden": true
        },
        "colab": {
          "base_uri": "https://localhost:8080/",
          "height": 287
        },
        "outputId": "99dcbaaf-5624-4ff9-c683-92d59e584bc6"
      },
      "outputs": [
        {
          "output_type": "execute_result",
          "data": {
            "text/plain": [
              "<matplotlib.image.AxesImage at 0x7fd9484f8310>"
            ]
          },
          "metadata": {},
          "execution_count": 59
        },
        {
          "output_type": "display_data",
          "data": {
            "image/png": "[encoded data removed]",
            "text/plain": [
              "<Figure size 432x288 with 1 Axes>"
            ]
          },
          "metadata": {
            "needs_background": "light"
          }
        }
      ],
      "source": [
        "plt.imshow(img)"
      ]
    },
    {
      "cell_type": "markdown",
      "metadata": {
        "id": "pB-Hx-OFbzJC"
      },
      "source": [
        "### Part (c) -- 2pt\n",
        "\n",
        "Modify the image by adding a constant value of 0.25 to each pixel in the `img` and\n",
        "store the result in the variable `img_add`. Note that, since the range for the pixels \n",
        "needs to be between [0, 1], you will also need to clip img_add to be in the range [0, 1] \n",
        "using `numpy.clip`. Clipping sets any value that is outside of the desired range to the \n",
        "closest endpoint. Display the image using `plt.imshow`."
      ]
    },
    {
      "cell_type": "code",
      "execution_count": 60,
      "metadata": {
        "collapsed": true,
        "id": "GWBhZay2bzJC",
        "jupyter": {
          "outputs_hidden": true
        },
        "colab": {
          "base_uri": "https://localhost:8080/",
          "height": 287
        },
        "outputId": "e9dab661-f845-43fe-b7bf-350dfc2da3db"
      },
      "outputs": [
        {
          "output_type": "execute_result",
          "data": {
            "text/plain": [
              "<matplotlib.image.AxesImage at 0x7fd948451ed0>"
            ]
          },
          "metadata": {},
          "execution_count": 60
        },
        {
          "output_type": "display_data",
          "data": {
            "image/png": "[encoded data removed]",
            "text/plain": [
              "<Figure size 432x288 with 1 Axes>"
            ]
          },
          "metadata": {
            "needs_background": "light"
          }
        }
      ],
      "source": [
        "# add 0.25 to each pixel\n",
        "img_add = img + 0.25\n",
        "\n",
        "# clip the img \n",
        "img_add = np.clip(img_add, 0, 1)\n",
        "plt.imshow(img_add)"
      ]
    },
    {
      "cell_type": "markdown",
      "metadata": {
        "id": "DeinKXBCbzJI"
      },
      "source": [
        "### Part (d) -- 2pt\n",
        "\n",
        "Crop the **original** image (`img` variable) to a 130 x 150 image including Mochi's face. Discard the alpha colour channel (i.e. resulting `img_cropped` should **only have RGB channels**)\n",
        "\n",
        "Display the image."
      ]
    },
    {
      "cell_type": "code",
      "source": [
        "img_cropped = img[20:150, 20:170, :3]\n",
        "plt.imshow(img_cropped)"
      ],
      "metadata": {
        "colab": {
          "base_uri": "https://localhost:8080/",
          "height": 287
        },
        "id": "a-WNJA3ZsKqb",
        "outputId": "48f75c3c-3262-45e8-e7fb-11ec8f53e408"
      },
      "execution_count": 61,
      "outputs": [
        {
          "output_type": "execute_result",
          "data": {
            "text/plain": [
              "<matplotlib.image.AxesImage at 0x7fd9484396d0>"
            ]
          },
          "metadata": {},
          "execution_count": 61
        },
        {
          "output_type": "display_data",
          "data": {
            "image/png": "[encoded data removed]",
            "text/plain": [
              "<Figure size 432x288 with 1 Axes>"
            ]
          },
          "metadata": {
            "needs_background": "light"
          }
        }
      ]
    },
    {
      "cell_type": "markdown",
      "metadata": {
        "id": "FmfE9CQdIGva"
      },
      "source": [
        "## Part 4. Basics of PyTorch [6 pt]\n",
        "\n",
        "PyTorch is a Python-based neural networks package. Along with tensorflow, PyTorch is currently one of the most popular machine learning libraries.\n",
        "\n",
        "PyTorch, at its core, is similar to Numpy in a sense that they both \n",
        "try to make it easier to write codes for scientific computing\n",
        "achieve improved performance over vanilla Python by leveraging highly optimized C back-end.\n",
        "However, compare to Numpy, PyTorch offers much better GPU support and provides many high-level features for machine learning. Technically, Numpy can be used to perform almost every thing PyTorch does. However, Numpy would be a lot slower than PyTorch, especially with CUDA GPU, and it would take more effort to write machine learning related code compared to using PyTorch."
      ]
    },
    {
      "cell_type": "code",
      "execution_count": 62,
      "metadata": {
        "collapsed": true,
        "id": "ppRPK-X2IGvb",
        "jupyter": {
          "outputs_hidden": true
        }
      },
      "outputs": [],
      "source": [
        "import torch"
      ]
    },
    {
      "cell_type": "markdown",
      "metadata": {
        "id": "DXrczIrSIGvf"
      },
      "source": [
        "### Part (a) -- 1 pt\n",
        "\n",
        "Use the function `torch.from_numpy` to convert the numpy array `img_cropped` into\n",
        "a PyTorch tensor. Save the result in a variable called `img_torch`."
      ]
    },
    {
      "cell_type": "code",
      "execution_count": 63,
      "metadata": {
        "collapsed": true,
        "id": "j9rYyf4gIGvj",
        "jupyter": {
          "outputs_hidden": true
        }
      },
      "outputs": [],
      "source": [
        "img_torch = torch.from_numpy(img_cropped)"
      ]
    },
    {
      "cell_type": "markdown",
      "metadata": {
        "id": "zrpPeRKtIGvn"
      },
      "source": [
        "### Part (b) -- 1pt\n",
        "\n",
        "Use the method `<Tensor>.shape` to find the shape (dimension and size) of `img_torch`."
      ]
    },
    {
      "cell_type": "code",
      "execution_count": 64,
      "metadata": {
        "collapsed": true,
        "id": "ws7G_aaxIGvn",
        "jupyter": {
          "outputs_hidden": true
        },
        "colab": {
          "base_uri": "https://localhost:8080/"
        },
        "outputId": "7f9b4746-65bc-41f2-f09f-fd423fa6fd37"
      },
      "outputs": [
        {
          "output_type": "execute_result",
          "data": {
            "text/plain": [
              "torch.Size([130, 150, 3])"
            ]
          },
          "metadata": {},
          "execution_count": 64
        }
      ],
      "source": [
        "img_torch.shape"
      ]
    },
    {
      "cell_type": "markdown",
      "metadata": {
        "id": "uorV8t1pIGvp"
      },
      "source": [
        "### Part (c) -- 1pt\n",
        "\n",
        "How many floating-point numbers are stored in the tensor `img_torch`?"
      ]
    },
    {
      "cell_type": "code",
      "execution_count": 65,
      "metadata": {
        "collapsed": true,
        "id": "sucaE_VCIGvq",
        "jupyter": {
          "outputs_hidden": true
        },
        "colab": {
          "base_uri": "https://localhost:8080/"
        },
        "outputId": "26ac7e22-ac88-435d-f9f3-9cbf9d575431"
      },
      "outputs": [
        {
          "output_type": "execute_result",
          "data": {
            "text/plain": [
              "58500"
            ]
          },
          "metadata": {},
          "execution_count": 65
        }
      ],
      "source": [
        "torch.numel(img_torch) # 130*150*3"
      ]
    },
    {
      "cell_type": "markdown",
      "metadata": {
        "id": "sIcXGdg5IGvu"
      },
      "source": [
        "### Part (d) -- 1 pt\n",
        "\n",
        "What does the code `img_torch.transpose(0,2)` do? What does the expression return? \n",
        "Is the original variable `img_torch` updated? Explain."
      ]
    },
    {
      "cell_type": "code",
      "execution_count": 66,
      "metadata": {
        "collapsed": true,
        "id": "omOJqIhEIGvu",
        "jupyter": {
          "outputs_hidden": true
        },
        "colab": {
          "base_uri": "https://localhost:8080/"
        },
        "outputId": "ba5a6eb2-fc8b-42f1-dbf7-a44a3d5cbfd5"
      },
      "outputs": [
        {
          "output_type": "execute_result",
          "data": {
            "text/plain": [
              "torch.Size([3, 150, 130])"
            ]
          },
          "metadata": {},
          "execution_count": 66
        }
      ],
      "source": [
        "(img_torch.transpose(0, 2)).shape"
      ]
    },
    {
      "cell_type": "markdown",
      "source": [
        "\n",
        "**ANS:**\n",
        "\n",
        "```img_torch.transpose(0, 2) ``` swaps the dimensions of 0 and 2. It returns the transposed version (after swapping the dimensions). The original variable is not updated. However, both the transposed tensor and the original tensor share the same underlying storage, so changing one tensor will change the other tensor.\n"
      ],
      "metadata": {
        "id": "0CVJHV_1uTSe"
      }
    },
    {
      "cell_type": "markdown",
      "metadata": {
        "id": "lHrzC0EqIGvx"
      },
      "source": [
        "### Part (e) -- 1 pt\n",
        "\n",
        "What does the code `img_torch.unsqueeze(0)` do? What does the expression return? \n",
        "Is the original variable `img_torch` updated? Explain."
      ]
    },
    {
      "cell_type": "code",
      "execution_count": 67,
      "metadata": {
        "collapsed": true,
        "id": "ZFePj7E5IGvz",
        "jupyter": {
          "outputs_hidden": true
        },
        "colab": {
          "base_uri": "https://localhost:8080/"
        },
        "outputId": "40d6fab6-899d-44bf-f854-b707c2810e80"
      },
      "outputs": [
        {
          "output_type": "execute_result",
          "data": {
            "text/plain": [
              "tensor([[[[0.6353, 0.4353, 0.2275],\n",
              "          [0.6431, 0.4431, 0.2353],\n",
              "          [0.6510, 0.4510, 0.2431],\n",
              "          ...,\n",
              "          [0.4627, 0.2157, 0.0471],\n",
              "          [0.4784, 0.2235, 0.0667],\n",
              "          [0.5059, 0.2510, 0.0941]],\n",
              "\n",
              "         [[0.6392, 0.4392, 0.2314],\n",
              "          [0.6392, 0.4353, 0.2392],\n",
              "          [0.6353, 0.4314, 0.2353],\n",
              "          ...,\n",
              "          [0.4784, 0.2314, 0.0627],\n",
              "          [0.5098, 0.2549, 0.0980],\n",
              "          [0.5176, 0.2627, 0.1059]],\n",
              "\n",
              "         [[0.6392, 0.4392, 0.2314],\n",
              "          [0.6314, 0.4275, 0.2314],\n",
              "          [0.6235, 0.4196, 0.2235],\n",
              "          ...,\n",
              "          [0.4941, 0.2471, 0.0784],\n",
              "          [0.5137, 0.2588, 0.1020],\n",
              "          [0.5098, 0.2549, 0.0980]],\n",
              "\n",
              "         ...,\n",
              "\n",
              "         [[0.5961, 0.3765, 0.1765],\n",
              "          [0.5804, 0.3608, 0.1608],\n",
              "          [0.5961, 0.3765, 0.1843],\n",
              "          ...,\n",
              "          [0.7529, 0.6118, 0.5255],\n",
              "          [0.7333, 0.5647, 0.4275],\n",
              "          [0.7059, 0.5373, 0.4000]],\n",
              "\n",
              "         [[0.6078, 0.3882, 0.1882],\n",
              "          [0.6000, 0.3804, 0.1804],\n",
              "          [0.6078, 0.3882, 0.1961],\n",
              "          ...,\n",
              "          [0.7490, 0.6000, 0.5176],\n",
              "          [0.6667, 0.4941, 0.3412],\n",
              "          [0.6314, 0.4588, 0.3059]],\n",
              "\n",
              "         [[0.6118, 0.3922, 0.1922],\n",
              "          [0.6000, 0.3804, 0.1804],\n",
              "          [0.6039, 0.3843, 0.1922],\n",
              "          ...,\n",
              "          [0.6667, 0.5176, 0.4353],\n",
              "          [0.6118, 0.4353, 0.2745],\n",
              "          [0.5882, 0.4118, 0.2510]]]])"
            ]
          },
          "metadata": {},
          "execution_count": 67
        }
      ],
      "source": [
        "img_torch.unsqueeze(0)"
      ]
    },
    {
      "cell_type": "markdown",
      "source": [
        "**ANS:**\n",
        "\n",
        "The code adds a dimension of size one at the specified position, 0 in this case. It returns a tensor with the new dimensions (still carries same data). No the original tensor is not updated."
      ],
      "metadata": {
        "id": "E4C3VGnevdyW"
      }
    },
    {
      "cell_type": "markdown",
      "metadata": {
        "id": "re16jTB9IGv0"
      },
      "source": [
        "### Part (f) -- 1 pt\n",
        "\n",
        "Find the maximum value of `img_torch` along each colour channel? Your output should be a one-dimensional\n",
        "PyTorch tensor with exactly three values.\n",
        "\n",
        "Hint: lookup the function `torch.max`."
      ]
    },
    {
      "cell_type": "code",
      "source": [
        "torch.tensor([torch.max(img_torch[:, :, i]).item() for i in range(img_torch.shape[2])])"
      ],
      "metadata": {
        "colab": {
          "base_uri": "https://localhost:8080/"
        },
        "id": "Jobp3ZVMwInw",
        "outputId": "10082c68-79db-4ee3-fb4c-d96acbc28de3"
      },
      "execution_count": 68,
      "outputs": [
        {
          "output_type": "execute_result",
          "data": {
            "text/plain": [
              "tensor([0.8941, 0.7882, 0.6745])"
            ]
          },
          "metadata": {},
          "execution_count": 68
        }
      ]
    },
    {
      "cell_type": "markdown",
      "metadata": {
        "id": "3hhA2sX0au0D"
      },
      "source": [
        "## Part 5. Training an ANN [10 pt]\n",
        "\n",
        "The sample code provided below is a 2-layer ANN trained on the MNIST dataset to identify digits less than 3 or greater than and equal to 3. Modify the code by changing any of the following and observe how the accuracy and error are affected:\n",
        "\n",
        "- number of training iterations\n",
        "- number of hidden units\n",
        "- numbers of layers\n",
        "- types of activation functions\n",
        "- learning rate\n",
        "\n"
      ]
    },
    {
      "cell_type": "code",
      "execution_count": 69,
      "metadata": {
        "collapsed": true,
        "id": "GGtthiz1tDh5",
        "jupyter": {
          "outputs_hidden": true
        },
        "colab": {
          "base_uri": "https://localhost:8080/"
        },
        "outputId": "5ceb66d4-1bd8-483b-9ca7-d6a28806efa8"
      },
      "outputs": [
        {
          "output_type": "stream",
          "name": "stdout",
          "text": [
            "Training Error Rate: 0.078\n",
            "Training Accuracy: 0.922\n",
            "Test Error Rate: 0.113\n",
            "Test Accuracy: 0.887\n"
          ]
        }
      ],
      "source": [
        "import torch\n",
        "import torch.nn as nn\n",
        "import torch.nn.functional as F\n",
        "from torchvision import datasets, transforms\n",
        "import matplotlib.pyplot as plt # for plotting\n",
        "import torch.optim as optim\n",
        "\n",
        "torch.manual_seed(1) # set the random seed\n",
        "\n",
        "# define a 2-layer artificial neural network\n",
        "class Pigeon(nn.Module):\n",
        "    def __init__(self):\n",
        "        super(Pigeon, self).__init__()\n",
        "        self.layer1 = nn.Linear(28 * 28, 30)\n",
        "        self.layer2 = nn.Linear(30, 1)\n",
        "    def forward(self, img):\n",
        "        flattened = img.view(-1, 28 * 28)\n",
        "        activation1 = self.layer1(flattened)\n",
        "        activation1 = F.relu(activation1)\n",
        "        activation2 = self.layer2(activation1)\n",
        "        return activation2\n",
        "\n",
        "pigeon = Pigeon()\n",
        "\n",
        "# load the data\n",
        "mnist_data = datasets.MNIST('data', train=True, download=True)\n",
        "mnist_data = list(mnist_data)\n",
        "mnist_train = mnist_data[:1000]\n",
        "mnist_val   = mnist_data[1000:2000]\n",
        "img_to_tensor = transforms.ToTensor()\n",
        "      \n",
        "    \n",
        "# simplified training code to train `pigeon` on the \"small digit recognition\" task\n",
        "criterion = nn.BCEWithLogitsLoss()\n",
        "optimizer = optim.SGD(pigeon.parameters(), lr=0.001, momentum=0.9)\n",
        "\n",
        "for (image, label) in mnist_train:\n",
        "    # actual ground truth: is the digit less than 3?\n",
        "    actual = torch.tensor(label < 3).reshape([1,1]).type(torch.FloatTensor)\n",
        "    # pigeon prediction\n",
        "    out = pigeon(img_to_tensor(image)) # step 1-2\n",
        "    # update the parameters based on the loss\n",
        "    loss = criterion(out, actual)      # step 3\n",
        "    loss.backward()                    # step 4 (compute the updates for each parameter)\n",
        "    optimizer.step()                   # step 4 (make the updates for each parameter)\n",
        "    optimizer.zero_grad()              # a clean up step for PyTorch\n",
        "\n",
        "# computing the error and accuracy on the training set\n",
        "error = 0\n",
        "for (image, label) in mnist_train:\n",
        "    prob = torch.sigmoid(pigeon(img_to_tensor(image)))\n",
        "    if (prob < 0.5 and label < 3) or (prob >= 0.5 and label >= 3):\n",
        "        error += 1\n",
        "print(\"Training Error Rate:\", error/len(mnist_train))\n",
        "print(\"Training Accuracy:\", 1 - error/len(mnist_train))\n",
        "\n",
        "\n",
        "# computing the error and accuracy on a test set\n",
        "error = 0\n",
        "for (image, label) in mnist_val:\n",
        "    prob = torch.sigmoid(pigeon(img_to_tensor(image)))\n",
        "    if (prob < 0.5 and label < 3) or (prob >= 0.5 and label >= 3):\n",
        "        error += 1\n",
        "print(\"Test Error Rate:\", error/len(mnist_val))\n",
        "print(\"Test Accuracy:\", 1 - error/len(mnist_val))"
      ]
    },
    {
      "cell_type": "markdown",
      "metadata": {
        "id": "viYKlFupcgF3"
      },
      "source": [
        "### Part (a) -- 3 pt\n",
        "Comment on which of the above changes resulted in the best accuracy on training data? What accuracy were you able to achieve?"
      ]
    },
    {
      "cell_type": "markdown",
      "source": [
        "| Change            | Training Error Rate   | Training Accurary | Test Error rate | Test Accuracy    | \n",
        "| -----------       | -----------           | ---               | ---              |  ---               |\n",
        "| No change         | 0.036                  |  0.964            | 0.079                 |     0.921               |\n",
        "| Epochs: 10      |    0.001              | 0.999                |   0.059         |      0.941              |\n",
        "| Number of hidden units: 10  |    0.047  | 0.953                |   0.104         |      0.896  |\n",
        "| Number of hidden units: 50  |    0.033  | 0.967                |   0.074         |      0.926  |\n",
        "| Number of hidden units: 100  |    0.03  | 0.97                |   0.077         |      0.923  |\n",
        "| Number of layers: 3 (insert middle layer 30x30)  |   0.045  | 0.955                |   0.079         |      0.921  |\n",
        "| Leaky relu  |    0.037  | 0.963                |   0.079         |      0.921  |\n",
        "| rrelu  |    0.042  | 0.958                |   0.103         |      0.897  |\n",
        "| learning rate = 0.01  |    0.039  | 0.961                |   0.082         |      0.918  |\n",
        "| learning rate = 0.05  |    0.312  | 0.688                |   0.297         |      0.703  |\n",
        "| learning rate = 0.001  |    0.078  | 0.922                |   0.113         |      0.887  |"
      ],
      "metadata": {
        "id": "G2mxk3jHgY7A"
      }
    },
    {
      "cell_type": "markdown",
      "source": [
        "**ANS:**\n",
        "Number of iterations (10 in this case)"
      ],
      "metadata": {
        "id": "GG4HIXEMmybk"
      }
    },
    {
      "cell_type": "markdown",
      "metadata": {
        "id": "pi6bWs7jcIem"
      },
      "source": [
        "### Part (b) -- 3 pt\n",
        "\n",
        "\n",
        "Comment on which of the above changes resulted in the best accuracy on testing data? What accuracy were you able to achieve?"
      ]
    },
    {
      "cell_type": "markdown",
      "source": [
        "**ANS:**\n",
        "\n",
        "Number of iterations (10 in this case)"
      ],
      "metadata": {
        "id": "v30IJP14mnDd"
      }
    },
    {
      "cell_type": "markdown",
      "metadata": {
        "id": "j7W2k347wFqo"
      },
      "source": [
        "### Part (c) -- 4 pt\n",
        "Which model hyperparameters should you use, the ones from (a) or (b)?"
      ]
    },
    {
      "cell_type": "markdown",
      "source": [
        "**ANS:**\n",
        "\n",
        "Usually when choosing hyperparameters, you would use a separate validation set. You don't want to use the testing data since it is meant to be a general case test. If you were to use the hyperparameters that provided the best accuracy on the testing data, then you would be tuning the hyperparameters for the test data and the model wouldn't generalize well. In this example, there is no validation set, so it's better to just use the models from (a)."
      ],
      "metadata": {
        "id": "6Bts8tGHe4DI"
      }
    }
  ],
  "metadata": {
    "colab": {
      "collapsed_sections": [],
      "name": "Lab_1_PyTorch_and_ANNs_Winter_2022.ipynb",
      "provenance": []
    },
    "kernelspec": {
      "display_name": "Python 3 (ipykernel)",
      "language": "python",
      "name": "python3"
    },
    "language_info": {
      "codemirror_mode": {
        "name": "ipython",
        "version": 3
      },
      "file_extension": ".py",
      "mimetype": "text/x-python",
      "name": "python",
      "nbconvert_exporter": "python",
      "pygments_lexer": "ipython3",
      "version": "3.9.4"
    }
  },
  "nbformat": 4,
  "nbformat_minor": 0
}